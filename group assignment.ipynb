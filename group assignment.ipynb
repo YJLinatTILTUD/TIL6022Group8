{
 "cells": [
  {
   "cell_type": "code",
   "execution_count": null,
   "id": "9feefd25",
   "metadata": {
    "ExecuteTime": {
     "end_time": "2024-10-09T07:46:09.340779Z",
     "start_time": "2024-10-09T07:46:09.335757Z"
    }
   },
   "outputs": [],
   "source": [
    "from plotly.offline import init_notebook_mode\n",
    "import plotly.io as pio\n",
    "import plotly.express as px\n",
    "import pandas as pd\n",
    "import numpy as np\n",
    "\n",
    "init_notebook_mode(connected=True)\n",
    "pio.renderers.default = \"plotly_mimetype+notebook\""
   ]
  },
  {
   "cell_type": "code",
   "execution_count": null,
   "id": "49fe4b4e",
   "metadata": {
    "ExecuteTime": {
     "end_time": "2024-10-09T07:46:09.372611Z",
     "start_time": "2024-10-09T07:46:09.350206Z"
    }
   },
   "outputs": [],
   "source": [
    "file_path = r\"avia_gooc_page_spreadsheet.xlsx\"\n",
    "df = pd.read_excel(file_path, sheet_name='Sheet 1', skiprows=10, index_col=0)\n",
    "df.dropna(how='any', inplace=True)\n",
    "\n",
    "pd.set_option('display.max_columns', None) \n",
    "pd.set_option('display.width', None)  \n",
    "df = df.drop(df.index[0:3])\n",
    "print(df)\n"
   ]
  },
  {
   "cell_type": "code",
   "execution_count": null,
   "id": "7245159c",
   "metadata": {
    "ExecuteTime": {
     "end_time": "2024-10-09T07:46:09.501105Z",
     "start_time": "2024-10-09T07:46:09.498334Z"
    }
   },
   "outputs": [],
   "source": [
    "print(df.columns)\n",
    "print(df.index)"
   ]
  },
  {
   "cell_type": "code",
   "execution_count": null,
   "id": "a26061e5",
   "metadata": {
    "ExecuteTime": {
     "end_time": "2024-10-09T07:46:09.622277Z",
     "start_time": "2024-10-09T07:46:09.523935Z"
    }
   },
   "outputs": [],
   "source": [
    "import matplotlib.pyplot as plt\n",
    "\n",
    "\n",
    "df.fillna(0, inplace=True)  \n",
    "x = df.columns  \n",
    "y_labels = df.index  \n",
    "\n",
    "\n",
    "fig, ax = plt.subplots(figsize=(12, 8))\n",
    "\n",
    "\n",
    "for country in y_labels:\n",
    "    if (country == \"United Kingdom\"): continue\n",
    "    y_values = df.loc[country].values \n",
    "    for i in range(0, len(y_values)):\n",
    "        if (y_values[i] == \":\"):\n",
    "            y_values[i] = 0\n",
    "    ax.plot(x, y_values, label=country)\n",
    "\n",
    "\n",
    "ax.set_title(\"Freight and Mail Air Transport by Country Over the Years\")\n",
    "ax.set_xlabel(\"Year\")\n",
    "ax.set_ylabel(\"Freight (in tonnes)\")\n",
    "\n",
    "\n",
    "plt.legend(loc='upper left', bbox_to_anchor=(1, 1), fontsize='small')\n",
    "plt.xticks(rotation=45)\n",
    "plt.tight_layout()\n",
    "plt.show()"
   ]
  },
  {
   "cell_type": "code",
   "execution_count": null,
   "id": "b73de09c",
   "metadata": {},
   "outputs": [],
   "source": [
    "file_path = r\"avia_gooc_page_spreadsheet (5countries).xlsx\"\n",
    "df_actual = pd.read_excel(file_path, sheet_name='Sheet 1', skiprows=10, index_col=0)\n",
    "df_actual.dropna(how='any', inplace=True)\n",
    "\n",
    "pd.set_option('display.max_columns', None) \n",
    "pd.set_option('display.width', None)  \n",
    "\n",
    "print(df_actual)"
   ]
  },
  {
   "cell_type": "code",
   "execution_count": null,
   "id": "68a05252",
   "metadata": {},
   "outputs": [],
   "source": [
    "print(df.columns)\n",
    "print(df.index)"
   ]
  },
  {
   "cell_type": "code",
   "execution_count": null,
   "id": "8c0afbf8",
   "metadata": {},
   "outputs": [],
   "source": [
    "import matplotlib.pyplot as plt\n",
    "\n",
    "\n",
    "df_actual.fillna(0, inplace=True)  \n",
    "x = df_actual.columns  \n",
    "y_labels = df_actual.index  \n",
    "\n",
    "\n",
    "fig, ax = plt.subplots(figsize=(12, 8))\n",
    "\n",
    "\n",
    "for country in y_labels:\n",
    "    y_values = df_actual.loc[country].values \n",
    "    ax.plot(x, y_values, label=country)\n",
    "\n",
    "\n",
    "ax.set_title(\"Freight and Mail Air Transport by 5 Country Over the Years\")\n",
    "ax.set_xlabel(\"Year\")\n",
    "ax.set_ylabel(\"Freight (in tonnes)\")\n",
    "\n",
    "\n",
    "plt.legend(loc='upper left', bbox_to_anchor=(1, 1), fontsize='small')\n",
    "plt.xticks(rotation=45)\n",
    "plt.tight_layout()\n",
    "plt.show()"
   ]
  },
  {
   "cell_type": "code",
   "execution_count": null,
   "id": "4e6c7ce7",
   "metadata": {},
   "outputs": [],
   "source": [
    "df.loc[country].values"
   ]
  },
  {
   "cell_type": "code",
   "execution_count": null,
   "id": "38e376a2",
   "metadata": {},
   "outputs": [],
   "source": [
    "file_path = r\"avia_goincc_page_spreadsheet.xlsx\" # intra-EU\n",
    "df_intraeu = pd.read_excel(file_path, sheet_name='Sheet 1', skiprows=9, index_col=0)\n",
    "df_intraeu.dropna(how='any', inplace=True)\n",
    "\n",
    "pd.set_option('display.max_columns', None) \n",
    "pd.set_option('display.width', None)  \n",
    "\n",
    "print(df_intraeu)"
   ]
  },
  {
   "cell_type": "code",
   "execution_count": null,
   "id": "720b44f7",
   "metadata": {},
   "outputs": [],
   "source": [
    "import matplotlib.pyplot as plt\n",
    "\n",
    "\n",
    "df_intraeu.fillna(0, inplace=True)  \n",
    "x = df_intraeu.columns[0:-2]  \n",
    "y_labels = df_intraeu.index\n",
    "\n",
    "\n",
    "fig, ax = plt.subplots(figsize=(12, 8))\n",
    "\n",
    "\n",
    "for country in y_labels:\n",
    "    y_values = df_intraeu.loc[country].values[0:-2] \n",
    "    ax.plot(x, y_values, label=country)\n",
    "\n",
    "\n",
    "ax.set_title(\"International intra-EU freight and mail air transport by reporting country and EU partner country\")\n",
    "ax.set_xlabel(\"Time\")\n",
    "ax.set_ylabel(\"Freight (in tonnes)\")\n",
    "   \n",
    "\n",
    "plt.legend(loc='upper left', bbox_to_anchor=(1, 1), fontsize='small')\n",
    "plt.xticks(rotation=45)\n",
    "plt.tight_layout()\n",
    "plt.show()"
   ]
  },
  {
   "cell_type": "code",
   "execution_count": null,
   "id": "1c21ebc7",
   "metadata": {},
   "outputs": [],
   "source": [
    "file_path = r\"avia_goexcc_page_spreadsheet_2002_quarterly.xlsx\"\n",
    "df_extraeu = pd.read_excel(file_path, sheet_name='Sheet 1', skiprows=9, index_col=0)\n",
    "df_extraeu.dropna(how='any', inplace=True)\n",
    "\n",
    "pd.set_option('display.max_columns', None) \n",
    "pd.set_option('display.width', None)  \n",
    "\n",
    "# print(df_extraeu)"
   ]
  },
  {
   "cell_type": "code",
   "execution_count": null,
   "id": "43b644c8",
   "metadata": {},
   "outputs": [],
   "source": [
    "import matplotlib.pyplot as plt\n",
    "\n",
    "\n",
    "df_extraeu.fillna(0, inplace=True)  \n",
    "x = df_extraeu.columns\n",
    "y_labels = df_extraeu.index\n",
    "\n",
    "\n",
    "fig, ax = plt.subplots(figsize=(16, 8))\n",
    "\n",
    "\n",
    "for country in y_labels:\n",
    "    y_values = df_extraeu.loc[country].values\n",
    "    ax.plot(x, y_values, label=country)\n",
    "\n",
    "\n",
    "ax.set_title(\"International extra-EU freight and mail air transport by reporting country and EU partner country\")\n",
    "ax.set_xlabel(\"Time\")\n",
    "ax.set_ylabel(\"Freight (in tonnes)\")\n",
    "\n",
    "\n",
    "plt.legend(loc='upper left', bbox_to_anchor=(1, 1), fontsize='small')\n",
    "plt.xticks(rotation=45)\n",
    "plt.tight_layout()\n",
    "plt.show()"
   ]
  },
  {
   "cell_type": "code",
   "execution_count": 48,
   "id": "7c99104d",
   "metadata": {},
   "outputs": [],
   "source": [
    "# data modelling for subquestion 1\n",
    "import pandas as pd\n",
    "import matplotlib.pyplot as plt\n",
    "from statsmodels.tsa.arima.model import ARIMA\n",
    "from statsmodels.graphics.tsaplots import plot_acf, plot_pacf"
   ]
  },
  {
   "cell_type": "code",
   "execution_count": 49,
   "id": "19baf08a",
   "metadata": {},
   "outputs": [],
   "source": [
    "time_series = df_extraeu.T.loc[:, 'Germany'] # Germany for example"
   ]
  },
  {
   "cell_type": "code",
   "execution_count": null,
   "id": "f3b8de31",
   "metadata": {},
   "outputs": [],
   "source": [
    "plt.figure(figsize=(15, 5))\n",
    "plt.plot(time_series)\n",
    "plt.title('Time Series Data')\n",
    "plt.xticks(rotation=45)\n",
    "plt.show()"
   ]
  },
  {
   "cell_type": "code",
   "execution_count": null,
   "id": "1c58a19e",
   "metadata": {},
   "outputs": [],
   "source": [
    "# ADF Test to Check for model assumption: Stationarity\n",
    "from statsmodels.tsa.stattools import adfuller\n",
    "\n",
    "pre_pandemic_data = time_series[time_series.index < '2020-Q1']\n",
    "post_pandemic_data = time_series[time_series.index >= '2019-Q4']\n",
    "# Perform Augmented Dickey-Fuller Test\n",
    "result = adfuller(pre_pandemic_data.dropna())  # Ensure no NaN values\n",
    "print('ADF Statistic:', result[0])\n",
    "print('p-value:', result[1])\n",
    "# ADF Statistic: -2.099; p-value: 0.244; fail to reject the null hypothesis, at least one unit root\n",
    "result = adfuller(pre_pandemic_data.diff().dropna())  # Ensure no NaN values\n",
    "print('ADF Statistic:', result[0])\n",
    "print('p-value:', result[1])\n",
    "# ADF Statistic: -3.687; p-value: 0.0001; reject the null hypothesis, no unit root"
   ]
  },
  {
   "cell_type": "code",
   "execution_count": 52,
   "id": "3b45e1e1",
   "metadata": {},
   "outputs": [],
   "source": [
    "# Plot ACF and PACF\n",
    "# plot_acf(pre_pandemic_data.diff().dropna())\n",
    "# plot_pacf(pre_pandemic_data.diff().dropna())\n",
    "# plt.show()\n",
    "pre_pandemic_data_array = np.asarray(pre_pandemic_data, dtype = float)"
   ]
  },
  {
   "cell_type": "code",
   "execution_count": null,
   "id": "120d2901",
   "metadata": {},
   "outputs": [],
   "source": [
    "# Define ARIMA model\n",
    "model = ARIMA(pre_pandemic_data_array, order=(5, 1, 3))  # Replace (p, d, q) with the chosen values\n",
    "\n",
    "# Fit the model\n",
    "model_fit = model.fit()\n",
    "\n",
    "# Print the model summary\n",
    "print(model_fit.summary())"
   ]
  },
  {
   "cell_type": "code",
   "execution_count": null,
   "id": "9fec2bf5",
   "metadata": {},
   "outputs": [],
   "source": [
    "forecast = model_fit.forecast(steps=16)\n",
    "forecast = np.insert(forecast, 0, pre_pandemic_data_array[-1])\n",
    "len(forecast)"
   ]
  },
  {
   "cell_type": "code",
   "execution_count": null,
   "id": "4d39b499",
   "metadata": {},
   "outputs": [],
   "source": [
    "# Plot pre-pandemic data and the forecasted values\n",
    "plt.figure(figsize=(15, 5))\n",
    "plt.plot(pre_pandemic_data, label='Original Data')\n",
    "plt.plot(time_series.index[time_series.index >= '2019-Q4'], post_pandemic_data, label = 'Actual Data')\n",
    "plt.plot(time_series.index[time_series.index >= '2019-Q4'], forecast, label='Forecasted Data (No Pandemic Impact)', linestyle='--')\n",
    "plt.title('Time Series Forecast (No COVID-19 Impact)')\n",
    "plt.xticks(rotation=45)\n",
    "plt.legend()\n",
    "plt.show()"
   ]
  },
  {
   "cell_type": "code",
   "execution_count": null,
   "id": "8768f4b2",
   "metadata": {},
   "outputs": [],
   "source": [
    "file_path = r\"mar_qg_qm_cwh_page_spreadsheet (5 countries).xlsx\"\n",
    "df_ship = pd.read_excel(file_path, sheet_name='Sheet 1', skiprows=7, index_col=0)\n",
    "df_ship.dropna(how='any', inplace=True)\n",
    "\n",
    "pd.set_option('display.max_columns', None) \n",
    "pd.set_option('display.width', None) \n",
    "\n",
    "df_ship.fillna(0, inplace=True)  \n",
    "x = df_ship.columns\n",
    "y_labels = df_ship.index\n",
    "\n",
    "\n",
    "fig, ax = plt.subplots(figsize=(16, 8))\n",
    "\n",
    "\n",
    "for country in y_labels:\n",
    "    y_values = df_ship.loc[country].values\n",
    "    ax.plot(x, y_values, label=country)\n",
    "\n",
    "\n",
    "ax.set_title(\"gross weight of goods handled in main ports in 5 coutries\")\n",
    "ax.set_xlabel(\"Time\")\n",
    "ax.set_ylabel(\"Freight (in thousand tonnes)\")\n",
    "\n",
    "\n",
    "plt.legend(loc='upper left', bbox_to_anchor=(1, 1), fontsize='small')\n",
    "plt.xticks(rotation=45)\n",
    "plt.tight_layout()\n",
    "plt.show() "
   ]
  },
  {
   "cell_type": "code",
   "execution_count": null,
   "id": "bda6f787",
   "metadata": {},
   "outputs": [],
   "source": [
    "time_series = df_ship.T.loc[:, 'Germany'] # Germany for example\n",
    "plt.figure(figsize=(15, 5))\n",
    "plt.plot(time_series)\n",
    "plt.title('Time Series Data')\n",
    "plt.xticks(rotation=45)\n",
    "plt.show()"
   ]
  },
  {
   "cell_type": "code",
   "execution_count": null,
   "id": "2d041b38",
   "metadata": {},
   "outputs": [],
   "source": [
    "from statsmodels.tsa.stattools import adfuller\n",
    "\n",
    "pre_pandemic_data = time_series[time_series.index < '2020-Q1']\n",
    "post_pandemic_data = time_series[time_series.index >= '2019-Q4']\n",
    "# Perform Augmented Dickey-Fuller Test\n",
    "result = adfuller(pre_pandemic_data.dropna())  # Ensure no NaN values\n",
    "print('ADF Statistic:', result[0])\n",
    "print('p-value:', result[1])\n",
    "# ADF Statistic: -2.099; p-value: 0.244; fail to reject the null hypothesis, at least one unit root\n",
    "result = adfuller(pre_pandemic_data.diff().dropna())  # Ensure no NaN values\n",
    "print('ADF Statistic:', result[0])\n",
    "print('p-value:', result[1])\n",
    "# ADF Statistic: -3.687; p-value: 0.0001; reject the null hypothesis, no unit root"
   ]
  }
 ],
 "metadata": {
  "kernelspec": {
   "display_name": "TIL6022",
   "language": "python",
   "name": "python3"
  },
  "language_info": {
   "codemirror_mode": {
    "name": "ipython",
    "version": 3
   },
   "file_extension": ".py",
   "mimetype": "text/x-python",
   "name": "python",
   "nbconvert_exporter": "python",
   "pygments_lexer": "ipython3",
   "version": "3.12.4"
  }
 },
 "nbformat": 4,
 "nbformat_minor": 5
}
