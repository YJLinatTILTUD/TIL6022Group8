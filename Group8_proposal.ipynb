{
 "cells": [
  {
   "cell_type": "markdown",
   "metadata": {},
   "source": [
    "# Project Group - 8\n",
    "# Members & Student numbers:\n",
    "Lars Zevenbergen, 4892739\n",
    "\n",
    "Yung Ting, Lu 6221149\n",
    "\n",
    "YuJung, Lin, 6183859\n",
    "\n",
    "Stephen Huang, 4956311\n",
    "\n",
    "Huib van der Veen, 6330584\n"
   ]
  },
  {
   "cell_type": "markdown",
   "metadata": {},
   "source": [
    "# Research Topic: \n",
    "Resilience of Global Supply Chains: A Focus on Aerial and Maritime Freight Volume.\n",
    "# Research Objective\n",
    "\n",
    "*Requires data modeling and quantitative research in Transport, Infrastructure & Logistics*\n",
    "\n",
    "\n",
    "Explore how global air and ship freight volumes fluctuate and compare air vs. sea freight trends during the COVID-19 pandemic. Analyze how the pandemic impacted the volume and value of goods transported by air vs.  sea, focusing on differences in recovery timelines and resilience.\n",
    "\n",
    "\n",
    "Subquestion 1:\n",
    "What would the freight trend look like if the pandemic did not happen?\n",
    "\n",
    "\n",
    "Subquestion 2:\n",
    "Which types of cargo were most affected by the COVID pandemic in air and sea freight? Did certain types of goods (e.g., perishable, high-value, bulk commodities) experience greater change in either air or sea freight volume?\n"
   ]
  },
  {
   "cell_type": "markdown",
   "metadata": {},
   "source": [
    "# Contribution Statement\n",
    "\n",
    "*Be specific. Some of the tasks can be coding (expect everyone to do this), background research, conceptualisation, visualisation, data analysis, data modelling*\n",
    "\n",
    "For now we look at the data together. We will divide the labor after we receive the feedback. "
   ]
  },
  {
   "cell_type": "markdown",
   "metadata": {},
   "source": [
    "# Data Used\n",
    "\n",
    "air freight import/export outside the EU:\n",
    "https://ec.europa.eu/eurostat/databrowser/view/avia_goexcc/default/table?lang=en&category=avia.avia_go.avia_goe\n",
    "\n",
    "air freight import/export inside the EU:\n",
    "https://ec.europa.eu/eurostat/databrowser/view/avia_goincc/default/table?lang=en&category=avia.avia_go.avia_goi\n",
    "\n",
    "ship freight in/out Netherlands:\n",
    "\n",
    "https://ec.europa.eu/eurostat/databrowser/view/mar_go_qm_nl/default/table?lang=en&category=mar.mar_go.mar_go_qm_detl\n"
   ]
  },
  {
   "cell_type": "markdown",
   "metadata": {},
   "source": [
    "# Data Pipeline\n",
    "We collect data from databases like Eurostat. We import the data as a .csv file (or similar file type). We filter and merge the data that we want to use using Python. We use the data for estimations and creating plots and graphs. We conclude from these results. \n",
    "\n",
    "\n",
    "We look at the data from 2002-2024. For subquestion 1 we use the available data from 2002-2019 (the pandemic is from the end of 2019). Using that data, we forecast the trend of volume of goods(both export and import), if the pandemic did not occur. Then compare this trend to the actual trend.\n"
   ]
  },
  {
   "cell_type": "markdown",
   "metadata": {},
   "source": []
  }
 ],
 "metadata": {
  "kernelspec": {
   "display_name": "Python 3 (ipykernel)",
   "language": "python",
   "name": "python3"
  },
  "language_info": {
   "codemirror_mode": {
    "name": "ipython",
    "version": 3
   },
   "file_extension": ".py",
   "mimetype": "text/x-python",
   "name": "python",
   "nbconvert_exporter": "python",
   "pygments_lexer": "ipython3",
   "version": "3.12.4"
  },
  "vscode": {
   "interpreter": {
    "hash": "31f2aee4e71d21fbe5cf8b01ff0e069b9275f58929596ceb00d14d90e3e16cd6"
   }
  }
 },
 "nbformat": 4,
 "nbformat_minor": 4
}
